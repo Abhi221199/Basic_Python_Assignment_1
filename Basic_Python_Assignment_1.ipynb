{
 "cells": [
  {
   "cell_type": "markdown",
   "id": "e8dc5fa7",
   "metadata": {},
   "source": [
    "### Answer the questions or complete the tasks outlined in bold below, use the specific method described if applicable.\n",
    "#### Question_1 \n",
    "What is 7 to the power of 4?"
   ]
  },
  {
   "cell_type": "code",
   "execution_count": 1,
   "id": "036e48ba",
   "metadata": {},
   "outputs": [
    {
     "data": {
      "text/plain": [
       "2401"
      ]
     },
     "execution_count": 1,
     "metadata": {},
     "output_type": "execute_result"
    }
   ],
   "source": [
    "7**4"
   ]
  },
  {
   "cell_type": "markdown",
   "id": "38ea4e88",
   "metadata": {},
   "source": [
    "#### Question_2\n",
    "\n",
    "Split this string:\n",
    "\n",
    "s = \"Hi there Yogesh!\"\n",
    "into a list."
   ]
  },
  {
   "cell_type": "code",
   "execution_count": 2,
   "id": "bd28c490",
   "metadata": {},
   "outputs": [
    {
     "data": {
      "text/plain": [
       "['Hi', 'there', 'Yogesh!']"
      ]
     },
     "execution_count": 2,
     "metadata": {},
     "output_type": "execute_result"
    }
   ],
   "source": [
    "s = \"Hi there Yogesh!\"\n",
    "s.split()"
   ]
  },
  {
   "cell_type": "markdown",
   "id": "9383240c",
   "metadata": {},
   "source": [
    "#### Question_3\n",
    "\n",
    "Given the variables:\n",
    "\n",
    "planet = \"Earth\"\n",
    "diameter = 12742\n",
    "Use .format() to print the following string:\n",
    "\n",
    "The diameter of Earth is 12742 kilometers."
   ]
  },
  {
   "cell_type": "code",
   "execution_count": 3,
   "id": "f0384573",
   "metadata": {},
   "outputs": [
    {
     "data": {
      "text/plain": [
       "'The diameter of Earth is 12742 kilometers'"
      ]
     },
     "execution_count": 3,
     "metadata": {},
     "output_type": "execute_result"
    }
   ],
   "source": [
    "planet = \"Earth\"\n",
    "diameter = 12742\n",
    "'The diameter of {} is {} kilometers'.format(planet,diameter)"
   ]
  },
  {
   "cell_type": "markdown",
   "id": "606bc997",
   "metadata": {},
   "source": [
    "#### Question_4\n",
    "\n",
    "Given this nested list, use indexing to grab the word \"hello\"\n",
    "\n",
    "lst = [1,2,[3,4],[5,[100,200,['hello']],23,11],1,7]"
   ]
  },
  {
   "cell_type": "code",
   "execution_count": 4,
   "id": "5247c7ae",
   "metadata": {},
   "outputs": [
    {
     "data": {
      "text/plain": [
       "'hello'"
      ]
     },
     "execution_count": 4,
     "metadata": {},
     "output_type": "execute_result"
    }
   ],
   "source": [
    "lst = [1,2,[3,4],[5,[100,200,['hello']],23,11],1,7]\n",
    "lst[3][1][2][0]"
   ]
  },
  {
   "cell_type": "markdown",
   "id": "0562b742",
   "metadata": {},
   "source": [
    "#### Question_5\n",
    "\n",
    "Given this nested dictionary grab the word \"hello\".\n",
    "\n",
    "d = {'k1':[1,2,3,{'tricky':['oh','man','inception',{'target':[1,2,3,'hello']}]}]}"
   ]
  },
  {
   "cell_type": "code",
   "execution_count": 5,
   "id": "f1ec2aba",
   "metadata": {},
   "outputs": [
    {
     "data": {
      "text/plain": [
       "'hello'"
      ]
     },
     "execution_count": 5,
     "metadata": {},
     "output_type": "execute_result"
    }
   ],
   "source": [
    "d = {'k1':[1,2,3,{'tricky':['oh','man','inception',{'target':[1,2,3,'hello']}]}]}\n",
    "d['k1'][-1]['tricky'][-1]['target'][-1]"
   ]
  },
  {
   "cell_type": "markdown",
   "id": "25b59bb3",
   "metadata": {},
   "source": [
    "#### Question_6\n",
    "\n",
    "What is the main difference between a tuple and a list?\n",
    "\n",
    "#### Answer:\n",
    "\n",
    "List is mutable and Tuple is immutable"
   ]
  },
  {
   "cell_type": "markdown",
   "id": "76f06b47",
   "metadata": {},
   "source": [
    "#### Question_7\n",
    "\n",
    "Create a function that grabs the email website domain from a string in the form:\n",
    "\n",
    "user@domain.com\n",
    "So for example, passing \"user@domain.com\" would return: domain.com"
   ]
  },
  {
   "cell_type": "code",
   "execution_count": 7,
   "id": "9414e3da",
   "metadata": {},
   "outputs": [
    {
     "data": {
      "text/plain": [
       "'gmail.com'"
      ]
     },
     "execution_count": 7,
     "metadata": {},
     "output_type": "execute_result"
    }
   ],
   "source": [
    "def get_domain(email):\n",
    "    return email.split('@')[-1]\n",
    "get_domain('abhishek564@gmail.com')"
   ]
  },
  {
   "cell_type": "markdown",
   "id": "8be37641",
   "metadata": {},
   "source": [
    "#### Question_8\n",
    "\n",
    "Create a basic function that returns True if the word 'dog' is contained in the input string. \n",
    "\n",
    "Don't worry about edge cases like a punctuation being attached to the word dog, but do account for capitalization."
   ]
  },
  {
   "cell_type": "code",
   "execution_count": 8,
   "id": "f12b316e",
   "metadata": {},
   "outputs": [
    {
     "data": {
      "text/plain": [
       "True"
      ]
     },
     "execution_count": 8,
     "metadata": {},
     "output_type": "execute_result"
    }
   ],
   "source": [
    "def find_dog(s):\n",
    "    return 'dog' in s.lower().split()\n",
    "find_dog('this is dOG')"
   ]
  },
  {
   "cell_type": "markdown",
   "id": "de6776b5",
   "metadata": {},
   "source": [
    "#### Question_9\n",
    "\n",
    "Create a function that counts the number of times the word \"dog\" occurs in a string. Again ignore edge cases."
   ]
  },
  {
   "cell_type": "code",
   "execution_count": 9,
   "id": "d04b32c2",
   "metadata": {},
   "outputs": [
    {
     "data": {
      "text/plain": [
       "3"
      ]
     },
     "execution_count": 9,
     "metadata": {},
     "output_type": "execute_result"
    }
   ],
   "source": [
    "def count_dog(s):\n",
    "    count = 0\n",
    "    for v in s.lower().split():\n",
    "        if v=='dog':\n",
    "            count += 1 #count=count+1\n",
    "    return count\n",
    "count_dog(\"dog dog you are dog\")"
   ]
  },
  {
   "cell_type": "markdown",
   "id": "3fd5958b",
   "metadata": {},
   "source": [
    "#### Question_10\n",
    "\n",
    "Use lambda expressions and the filter() function to filter out words from a list that don't start with the letter 's'. For example:\n",
    "\n",
    "seq = ['soup','dog','salad','cat','great']\n",
    "should be filtered down to:\n",
    "\n",
    "['soup','salad']"
   ]
  },
  {
   "cell_type": "code",
   "execution_count": 10,
   "id": "d53815ba",
   "metadata": {},
   "outputs": [
    {
     "data": {
      "text/plain": [
       "['dog', 'cat', 'great']"
      ]
     },
     "execution_count": 10,
     "metadata": {},
     "output_type": "execute_result"
    }
   ],
   "source": [
    "seq = ['soup','dog','salad','cat','great']\n",
    "list(filter(lambda x:x[0]!='s',seq))"
   ]
  },
  {
   "cell_type": "markdown",
   "id": "bf3a8e20",
   "metadata": {},
   "source": [
    "#### Question_11\n",
    "\n",
    "You are driving a little too fast, and a police officer stops you. Write a function to return one of 3 possible results: \"No ticket\", \"Small ticket\", or \"Big Ticket\". If your speed is 60 or less, the result is \"No Ticket\". If speed is between 61 and 80 inclusive, the result is \"Small Ticket\". If speed is 81 or more, the result is \"Big Ticket\". Unless it is your birthday (encoded as a boolean value in the parameters of the function) -- on your birthday, your speed can be 5 higher in all cases."
   ]
  },
  {
   "cell_type": "code",
   "execution_count": 11,
   "id": "21fc35c5",
   "metadata": {},
   "outputs": [
    {
     "name": "stdout",
     "output_type": "stream",
     "text": [
      "BIG TICKET\n"
     ]
    }
   ],
   "source": [
    "def speed_catch(speed, birthday):\n",
    "    if birthday:\n",
    "        new_speed=speed-5\n",
    "    else:\n",
    "        new_speed=speed\n",
    "    if new_speed>80:\n",
    "        print(\"BIG TICKET\")\n",
    "    elif new_speed>60:\n",
    "        return \"SMALL TICKET\"\n",
    "    else:\n",
    "        return \"NO TICKET\"\n",
    "\n",
    "speed_catch(84, False)"
   ]
  },
  {
   "cell_type": "markdown",
   "id": "3add2d37",
   "metadata": {},
   "source": [
    "#### Question_12\n",
    "\n",
    "Given a string print number num by extracting all the\n",
    "digits from the string as in string\n",
    "Print negative number if the first character in \n",
    "string is '-'\n",
    "eg.\n",
    "-123abcd should return -123,abcd456-->456,fdhfh78dsd89--->7889,-56dssd78-->-5678"
   ]
  },
  {
   "cell_type": "code",
   "execution_count": 12,
   "id": "7b33ff38",
   "metadata": {},
   "outputs": [
    {
     "name": "stdout",
     "output_type": "stream",
     "text": [
      "Enter the Input: -123abcd\n",
      "-123\n"
     ]
    }
   ],
   "source": [
    "s=input(\"Enter the Input: \")\n",
    "num=\"\"\n",
    "a=[0,1,2,3,4,5,6,7,8,9]\n",
    "if s==\"\":\n",
    "    print(\"Please Enter Something\")\n",
    "else:\n",
    "    if s[0]==\"-\":\n",
    "        num=num+s[0]\n",
    "    for c in s:\n",
    "        if c in str(a):\n",
    "            num=num+c\n",
    "    print(num)"
   ]
  },
  {
   "cell_type": "markdown",
   "id": "79d5eb2f",
   "metadata": {},
   "source": [
    "#### Question_13\n",
    "\n",
    "WAP to check whether a number is palindrome or not on following conditions.\n",
    "1. take input number\n",
    "2. add number and its reverse\n",
    "3. check that number is palindrome or not,if not then sum and its reverse"
   ]
  },
  {
   "cell_type": "code",
   "execution_count": 13,
   "id": "40008485",
   "metadata": {},
   "outputs": [
    {
     "name": "stdout",
     "output_type": "stream",
     "text": [
      "Enter the number: 876\n",
      "Number is :  6105\n",
      "Reverse is :  6105\n",
      "Number is :  11121\n",
      "Reverse is :  11121\n",
      "Number is :  23232\n",
      "Reverse is :  23232\n",
      "Palindrome is :  23232\n"
     ]
    }
   ],
   "source": [
    "num1=input(\"Enter the number: \")\n",
    "num2=int(num1[::-1])\n",
    "num3=str(int(num1)+num2)\n",
    "while num3!=num3[::-1]:\n",
    "    num3=str(int(num3)+int(num3[::-1]))\n",
    "    print(\"Number is : \", num3)\n",
    "    print(\"Reverse is : \", num3)\n",
    "print(\"Palindrome is : \", num3)"
   ]
  },
  {
   "cell_type": "markdown",
   "id": "be5e2b39",
   "metadata": {},
   "source": [
    "#### Question_14\n",
    "\n",
    "Write a python function to find and display the five \n",
    "digit number in which the first digit is two more than \n",
    "the second,the second digit is two more than the third,\n",
    "the fourth digit is two less than the third, and the \n",
    "last digit is two more than\n",
    "the fourth.The sum of the third,fourth and fifth digits\n",
    "equals the first.The sum of all the digits is 19"
   ]
  },
  {
   "cell_type": "code",
   "execution_count": 14,
   "id": "9a153e86",
   "metadata": {},
   "outputs": [
    {
     "name": "stdout",
     "output_type": "stream",
     "text": [
      "75313\n"
     ]
    }
   ],
   "source": [
    "def find_five_digit():\n",
    "    for v in range (9,0,-1):\n",
    "        d1=v\n",
    "        d2=v-2\n",
    "        d3=v-4\n",
    "        d4=v-6\n",
    "        d5=v-4\n",
    "        if d1==d3+d4+d5 and sum([d1,d2,d3,d4,d5])==19:\n",
    "            return (int(str(d1)+str(d2)+str(d3)+str(d4)+str(d5)))\n",
    "print(find_five_digit())"
   ]
  },
  {
   "cell_type": "code",
   "execution_count": null,
   "id": "86c6625e",
   "metadata": {},
   "outputs": [],
   "source": []
  }
 ],
 "metadata": {
  "kernelspec": {
   "display_name": "Python 3 (ipykernel)",
   "language": "python",
   "name": "python3"
  },
  "language_info": {
   "codemirror_mode": {
    "name": "ipython",
    "version": 3
   },
   "file_extension": ".py",
   "mimetype": "text/x-python",
   "name": "python",
   "nbconvert_exporter": "python",
   "pygments_lexer": "ipython3",
   "version": "3.9.12"
  }
 },
 "nbformat": 4,
 "nbformat_minor": 5
}
